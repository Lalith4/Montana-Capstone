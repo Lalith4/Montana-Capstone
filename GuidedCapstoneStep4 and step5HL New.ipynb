{
 "cells": [
  {
   "cell_type": "markdown",
   "metadata": {
    "colab_type": "text",
    "id": "cf5CmXQCZyF1"
   },
   "source": [
    "# Guided Capstone Step 4. Pre-Processing and Training Data Development"
   ]
  },
  {
   "cell_type": "markdown",
   "metadata": {
    "colab_type": "text",
    "id": "b2jue2jPGJlt"
   },
   "source": [
    "**The Data Science Method**  \n",
    "\n",
    "\n",
    "1.   Problem Identification \n",
    "\n",
    "\n",
    "2.   Data Wrangling \n",
    "  \n",
    " \n",
    "3.   Exploratory Data Analysis   \n",
    "\n",
    "4.   **Pre-processing and Training Data Development**  \n",
    " * Create dummy or indicator features for categorical variables\n",
    "  * Standardize the magnitude of numeric features\n",
    "  * Split into testing and training datasets\n",
    "  * Apply scaler to the testing set\n",
    "5.   Modeling \n",
    "  * Fit Models with Training Data Set\n",
    "  * Review Model Outcomes — Iterate over additional models as needed.\n",
    "  * Identify the Final Model\n",
    "\n",
    "6.   Documentation\n",
    "  * Review the Results\n",
    "  * Present and share your findings - storytelling\n",
    "  * Finalize Code \n",
    "  * Finalize Documentation"
   ]
  },
  {
   "cell_type": "markdown",
   "metadata": {
    "colab_type": "text",
    "id": "K8xfkAqqZyF2"
   },
   "source": [
    "**<font color='teal'> Start by loading the necessary packages as we did in step 3 and printing out our current working directory just to confirm we are in the correct project directory. </font>**"
   ]
  },
  {
   "cell_type": "code",
   "execution_count": 1,
   "metadata": {
    "colab": {},
    "colab_type": "code",
    "id": "ry6WPL5eZyF3"
   },
   "outputs": [],
   "source": [
    "import os\n",
    "import pandas as pd\n",
    "import datetime\n",
    "import seaborn as sns\n",
    "import matplotlib.pyplot as plt\n",
    "import numpy as np\n",
    "%matplotlib inline"
   ]
  },
  {
   "cell_type": "markdown",
   "metadata": {
    "colab_type": "text",
    "id": "630T-ogRZyF8"
   },
   "source": [
    "**<font color='teal'>  Load the csv file you created in step 3, remember it should be saved inside your data subfolder and print the first five rows.</font>**"
   ]
  },
  {
   "cell_type": "code",
   "execution_count": 2,
   "metadata": {
    "colab": {},
    "colab_type": "code",
    "id": "dMNbk0u3ZyF9"
   },
   "outputs": [
    {
     "data": {
      "text/plain": [
       "'C:\\\\Users\\\\lalit\\\\Desktop\\\\lalpy\\\\Big Mountain'"
      ]
     },
     "execution_count": 2,
     "metadata": {},
     "output_type": "execute_result"
    }
   ],
   "source": [
    "os.getcwd()"
   ]
  },
  {
   "cell_type": "code",
   "execution_count": 4,
   "metadata": {},
   "outputs": [
    {
     "data": {
      "text/html": [
       "<div>\n",
       "<style scoped>\n",
       "    .dataframe tbody tr th:only-of-type {\n",
       "        vertical-align: middle;\n",
       "    }\n",
       "\n",
       "    .dataframe tbody tr th {\n",
       "        vertical-align: top;\n",
       "    }\n",
       "\n",
       "    .dataframe thead th {\n",
       "        text-align: right;\n",
       "    }\n",
       "</style>\n",
       "<table border=\"1\" class=\"dataframe\">\n",
       "  <thead>\n",
       "    <tr style=\"text-align: right;\">\n",
       "      <th></th>\n",
       "      <th>Name</th>\n",
       "      <th>state</th>\n",
       "      <th>summit_elev</th>\n",
       "      <th>vertical_drop</th>\n",
       "      <th>trams</th>\n",
       "      <th>fastEight</th>\n",
       "      <th>fastSixes</th>\n",
       "      <th>fastQuads</th>\n",
       "      <th>quad</th>\n",
       "      <th>triple</th>\n",
       "      <th>...</th>\n",
       "      <th>SkiableTerrain_ac</th>\n",
       "      <th>Snow Making_ac</th>\n",
       "      <th>daysOpenLastYear</th>\n",
       "      <th>yearsOpen</th>\n",
       "      <th>averageSnowfall</th>\n",
       "      <th>AdultWeekday</th>\n",
       "      <th>AdultWeekend</th>\n",
       "      <th>projectedDaysOpen</th>\n",
       "      <th>NightSkiing_ac</th>\n",
       "      <th>clusters</th>\n",
       "    </tr>\n",
       "  </thead>\n",
       "  <tbody>\n",
       "    <tr>\n",
       "      <td>0</td>\n",
       "      <td>Alyeska Resort</td>\n",
       "      <td>Alaska</td>\n",
       "      <td>3939</td>\n",
       "      <td>2500</td>\n",
       "      <td>1</td>\n",
       "      <td>0.0</td>\n",
       "      <td>0</td>\n",
       "      <td>2</td>\n",
       "      <td>2</td>\n",
       "      <td>0</td>\n",
       "      <td>...</td>\n",
       "      <td>1610.0</td>\n",
       "      <td>113.0</td>\n",
       "      <td>150.0</td>\n",
       "      <td>60.0</td>\n",
       "      <td>669.0</td>\n",
       "      <td>65.0</td>\n",
       "      <td>85.0</td>\n",
       "      <td>150.0</td>\n",
       "      <td>550.0</td>\n",
       "      <td>0</td>\n",
       "    </tr>\n",
       "    <tr>\n",
       "      <td>1</td>\n",
       "      <td>Eaglecrest Ski Area</td>\n",
       "      <td>Alaska</td>\n",
       "      <td>2600</td>\n",
       "      <td>1540</td>\n",
       "      <td>0</td>\n",
       "      <td>0.0</td>\n",
       "      <td>0</td>\n",
       "      <td>0</td>\n",
       "      <td>0</td>\n",
       "      <td>0</td>\n",
       "      <td>...</td>\n",
       "      <td>640.0</td>\n",
       "      <td>60.0</td>\n",
       "      <td>45.0</td>\n",
       "      <td>44.0</td>\n",
       "      <td>350.0</td>\n",
       "      <td>47.0</td>\n",
       "      <td>53.0</td>\n",
       "      <td>90.0</td>\n",
       "      <td>0.0</td>\n",
       "      <td>0</td>\n",
       "    </tr>\n",
       "    <tr>\n",
       "      <td>2</td>\n",
       "      <td>Hilltop Ski Area</td>\n",
       "      <td>Alaska</td>\n",
       "      <td>2090</td>\n",
       "      <td>294</td>\n",
       "      <td>0</td>\n",
       "      <td>0.0</td>\n",
       "      <td>0</td>\n",
       "      <td>0</td>\n",
       "      <td>0</td>\n",
       "      <td>1</td>\n",
       "      <td>...</td>\n",
       "      <td>30.0</td>\n",
       "      <td>30.0</td>\n",
       "      <td>150.0</td>\n",
       "      <td>36.0</td>\n",
       "      <td>69.0</td>\n",
       "      <td>30.0</td>\n",
       "      <td>34.0</td>\n",
       "      <td>152.0</td>\n",
       "      <td>30.0</td>\n",
       "      <td>0</td>\n",
       "    </tr>\n",
       "    <tr>\n",
       "      <td>3</td>\n",
       "      <td>Arizona Snowbowl</td>\n",
       "      <td>Arizona</td>\n",
       "      <td>11500</td>\n",
       "      <td>2300</td>\n",
       "      <td>0</td>\n",
       "      <td>0.0</td>\n",
       "      <td>1</td>\n",
       "      <td>0</td>\n",
       "      <td>2</td>\n",
       "      <td>2</td>\n",
       "      <td>...</td>\n",
       "      <td>777.0</td>\n",
       "      <td>104.0</td>\n",
       "      <td>122.0</td>\n",
       "      <td>81.0</td>\n",
       "      <td>260.0</td>\n",
       "      <td>89.0</td>\n",
       "      <td>89.0</td>\n",
       "      <td>122.0</td>\n",
       "      <td>0.0</td>\n",
       "      <td>1</td>\n",
       "    </tr>\n",
       "    <tr>\n",
       "      <td>4</td>\n",
       "      <td>Sunrise Park Resort</td>\n",
       "      <td>Arizona</td>\n",
       "      <td>11100</td>\n",
       "      <td>1800</td>\n",
       "      <td>0</td>\n",
       "      <td>0.0</td>\n",
       "      <td>0</td>\n",
       "      <td>1</td>\n",
       "      <td>2</td>\n",
       "      <td>3</td>\n",
       "      <td>...</td>\n",
       "      <td>800.0</td>\n",
       "      <td>80.0</td>\n",
       "      <td>115.0</td>\n",
       "      <td>49.0</td>\n",
       "      <td>250.0</td>\n",
       "      <td>74.0</td>\n",
       "      <td>78.0</td>\n",
       "      <td>104.0</td>\n",
       "      <td>80.0</td>\n",
       "      <td>1</td>\n",
       "    </tr>\n",
       "  </tbody>\n",
       "</table>\n",
       "<p>5 rows × 26 columns</p>\n",
       "</div>"
      ],
      "text/plain": [
       "                  Name    state  summit_elev  vertical_drop  trams  fastEight  \\\n",
       "0       Alyeska Resort   Alaska         3939           2500      1        0.0   \n",
       "1  Eaglecrest Ski Area   Alaska         2600           1540      0        0.0   \n",
       "2     Hilltop Ski Area   Alaska         2090            294      0        0.0   \n",
       "3     Arizona Snowbowl  Arizona        11500           2300      0        0.0   \n",
       "4  Sunrise Park Resort  Arizona        11100           1800      0        0.0   \n",
       "\n",
       "   fastSixes  fastQuads  quad  triple  ...  SkiableTerrain_ac  Snow Making_ac  \\\n",
       "0          0          2     2       0  ...             1610.0           113.0   \n",
       "1          0          0     0       0  ...              640.0            60.0   \n",
       "2          0          0     0       1  ...               30.0            30.0   \n",
       "3          1          0     2       2  ...              777.0           104.0   \n",
       "4          0          1     2       3  ...              800.0            80.0   \n",
       "\n",
       "   daysOpenLastYear  yearsOpen  averageSnowfall  AdultWeekday  AdultWeekend  \\\n",
       "0             150.0       60.0            669.0          65.0          85.0   \n",
       "1              45.0       44.0            350.0          47.0          53.0   \n",
       "2             150.0       36.0             69.0          30.0          34.0   \n",
       "3             122.0       81.0            260.0          89.0          89.0   \n",
       "4             115.0       49.0            250.0          74.0          78.0   \n",
       "\n",
       "   projectedDaysOpen  NightSkiing_ac  clusters  \n",
       "0              150.0           550.0         0  \n",
       "1               90.0             0.0         0  \n",
       "2              152.0            30.0         0  \n",
       "3              122.0             0.0         1  \n",
       "4              104.0            80.0         1  \n",
       "\n",
       "[5 rows x 26 columns]"
      ]
     },
     "execution_count": 4,
     "metadata": {},
     "output_type": "execute_result"
    }
   ],
   "source": [
    "df=pd.read_csv('C:\\\\Users\\\\lalit\\\\Desktop\\\\lalpy\\\\Big Mountain\\\\data\\\\step3_output.csv')\n",
    "df.head()"
   ]
  },
  {
   "cell_type": "markdown",
   "metadata": {
    "colab_type": "text",
    "id": "zkBHf9smZyGB"
   },
   "source": [
    "## Create dummy features for categorical variables"
   ]
  },
  {
   "cell_type": "markdown",
   "metadata": {
    "colab_type": "text",
    "id": "vWKHm0NhAnrJ"
   },
   "source": [
    "**<font color='teal'> Create dummy variables for `state`. Add the dummies back to the dataframe and remove the original column for `state`. </font>**\n",
    "\n",
    "Hint: you can see an example of how to execute this in Aiden's article on preprocessing [here](https://medium.com/@aiden.dataminer/the-data-science-method-dsm-pre-processing-and-training-data-development-fd2d75182967). "
   ]
  },
  {
   "cell_type": "code",
   "execution_count": 5,
   "metadata": {
    "colab": {},
    "colab_type": "code",
    "id": "lZqWk8ltZyGZ"
   },
   "outputs": [
    {
     "name": "stdout",
     "output_type": "stream",
     "text": [
      "(325, 60)\n"
     ]
    },
    {
     "data": {
      "text/html": [
       "<div>\n",
       "<style scoped>\n",
       "    .dataframe tbody tr th:only-of-type {\n",
       "        vertical-align: middle;\n",
       "    }\n",
       "\n",
       "    .dataframe tbody tr th {\n",
       "        vertical-align: top;\n",
       "    }\n",
       "\n",
       "    .dataframe thead th {\n",
       "        text-align: right;\n",
       "    }\n",
       "</style>\n",
       "<table border=\"1\" class=\"dataframe\">\n",
       "  <thead>\n",
       "    <tr style=\"text-align: right;\">\n",
       "      <th></th>\n",
       "      <th>Name</th>\n",
       "      <th>summit_elev</th>\n",
       "      <th>vertical_drop</th>\n",
       "      <th>trams</th>\n",
       "      <th>fastEight</th>\n",
       "      <th>fastSixes</th>\n",
       "      <th>fastQuads</th>\n",
       "      <th>quad</th>\n",
       "      <th>triple</th>\n",
       "      <th>double</th>\n",
       "      <th>...</th>\n",
       "      <th>Rhode Island</th>\n",
       "      <th>South Dakota</th>\n",
       "      <th>Tennessee</th>\n",
       "      <th>Utah</th>\n",
       "      <th>Vermont</th>\n",
       "      <th>Virginia</th>\n",
       "      <th>Washington</th>\n",
       "      <th>West Virginia</th>\n",
       "      <th>Wisconsin</th>\n",
       "      <th>Wyoming</th>\n",
       "    </tr>\n",
       "  </thead>\n",
       "  <tbody>\n",
       "    <tr>\n",
       "      <td>0</td>\n",
       "      <td>Alyeska Resort</td>\n",
       "      <td>3939</td>\n",
       "      <td>2500</td>\n",
       "      <td>1</td>\n",
       "      <td>0.0</td>\n",
       "      <td>0</td>\n",
       "      <td>2</td>\n",
       "      <td>2</td>\n",
       "      <td>0</td>\n",
       "      <td>0</td>\n",
       "      <td>...</td>\n",
       "      <td>0</td>\n",
       "      <td>0</td>\n",
       "      <td>0</td>\n",
       "      <td>0</td>\n",
       "      <td>0</td>\n",
       "      <td>0</td>\n",
       "      <td>0</td>\n",
       "      <td>0</td>\n",
       "      <td>0</td>\n",
       "      <td>0</td>\n",
       "    </tr>\n",
       "    <tr>\n",
       "      <td>1</td>\n",
       "      <td>Eaglecrest Ski Area</td>\n",
       "      <td>2600</td>\n",
       "      <td>1540</td>\n",
       "      <td>0</td>\n",
       "      <td>0.0</td>\n",
       "      <td>0</td>\n",
       "      <td>0</td>\n",
       "      <td>0</td>\n",
       "      <td>0</td>\n",
       "      <td>4</td>\n",
       "      <td>...</td>\n",
       "      <td>0</td>\n",
       "      <td>0</td>\n",
       "      <td>0</td>\n",
       "      <td>0</td>\n",
       "      <td>0</td>\n",
       "      <td>0</td>\n",
       "      <td>0</td>\n",
       "      <td>0</td>\n",
       "      <td>0</td>\n",
       "      <td>0</td>\n",
       "    </tr>\n",
       "    <tr>\n",
       "      <td>2</td>\n",
       "      <td>Hilltop Ski Area</td>\n",
       "      <td>2090</td>\n",
       "      <td>294</td>\n",
       "      <td>0</td>\n",
       "      <td>0.0</td>\n",
       "      <td>0</td>\n",
       "      <td>0</td>\n",
       "      <td>0</td>\n",
       "      <td>1</td>\n",
       "      <td>0</td>\n",
       "      <td>...</td>\n",
       "      <td>0</td>\n",
       "      <td>0</td>\n",
       "      <td>0</td>\n",
       "      <td>0</td>\n",
       "      <td>0</td>\n",
       "      <td>0</td>\n",
       "      <td>0</td>\n",
       "      <td>0</td>\n",
       "      <td>0</td>\n",
       "      <td>0</td>\n",
       "    </tr>\n",
       "    <tr>\n",
       "      <td>3</td>\n",
       "      <td>Arizona Snowbowl</td>\n",
       "      <td>11500</td>\n",
       "      <td>2300</td>\n",
       "      <td>0</td>\n",
       "      <td>0.0</td>\n",
       "      <td>1</td>\n",
       "      <td>0</td>\n",
       "      <td>2</td>\n",
       "      <td>2</td>\n",
       "      <td>1</td>\n",
       "      <td>...</td>\n",
       "      <td>0</td>\n",
       "      <td>0</td>\n",
       "      <td>0</td>\n",
       "      <td>0</td>\n",
       "      <td>0</td>\n",
       "      <td>0</td>\n",
       "      <td>0</td>\n",
       "      <td>0</td>\n",
       "      <td>0</td>\n",
       "      <td>0</td>\n",
       "    </tr>\n",
       "    <tr>\n",
       "      <td>4</td>\n",
       "      <td>Sunrise Park Resort</td>\n",
       "      <td>11100</td>\n",
       "      <td>1800</td>\n",
       "      <td>0</td>\n",
       "      <td>0.0</td>\n",
       "      <td>0</td>\n",
       "      <td>1</td>\n",
       "      <td>2</td>\n",
       "      <td>3</td>\n",
       "      <td>1</td>\n",
       "      <td>...</td>\n",
       "      <td>0</td>\n",
       "      <td>0</td>\n",
       "      <td>0</td>\n",
       "      <td>0</td>\n",
       "      <td>0</td>\n",
       "      <td>0</td>\n",
       "      <td>0</td>\n",
       "      <td>0</td>\n",
       "      <td>0</td>\n",
       "      <td>0</td>\n",
       "    </tr>\n",
       "  </tbody>\n",
       "</table>\n",
       "<p>5 rows × 60 columns</p>\n",
       "</div>"
      ],
      "text/plain": [
       "                  Name  summit_elev  vertical_drop  trams  fastEight  \\\n",
       "0       Alyeska Resort         3939           2500      1        0.0   \n",
       "1  Eaglecrest Ski Area         2600           1540      0        0.0   \n",
       "2     Hilltop Ski Area         2090            294      0        0.0   \n",
       "3     Arizona Snowbowl        11500           2300      0        0.0   \n",
       "4  Sunrise Park Resort        11100           1800      0        0.0   \n",
       "\n",
       "   fastSixes  fastQuads  quad  triple  double  ...  Rhode Island  \\\n",
       "0          0          2     2       0       0  ...             0   \n",
       "1          0          0     0       0       4  ...             0   \n",
       "2          0          0     0       1       0  ...             0   \n",
       "3          1          0     2       2       1  ...             0   \n",
       "4          0          1     2       3       1  ...             0   \n",
       "\n",
       "   South Dakota  Tennessee  Utah  Vermont  Virginia  Washington  \\\n",
       "0             0          0     0        0         0           0   \n",
       "1             0          0     0        0         0           0   \n",
       "2             0          0     0        0         0           0   \n",
       "3             0          0     0        0         0           0   \n",
       "4             0          0     0        0         0           0   \n",
       "\n",
       "   West Virginia  Wisconsin  Wyoming  \n",
       "0              0          0        0  \n",
       "1              0          0        0  \n",
       "2              0          0        0  \n",
       "3              0          0        0  \n",
       "4              0          0        0  \n",
       "\n",
       "[5 rows x 60 columns]"
      ]
     },
     "execution_count": 5,
     "metadata": {},
     "output_type": "execute_result"
    }
   ],
   "source": [
    "df = pd.concat([df, pd.get_dummies(df['state'])], axis=1).drop(['state'], axis =1)\n",
    "print(df.shape)\n",
    "df.head()"
   ]
  },
  {
   "cell_type": "markdown",
   "metadata": {
    "colab_type": "text",
    "id": "HnDVhE1-ZyGF"
   },
   "source": [
    "## Standardize the magnitude of numeric features"
   ]
  },
  {
   "cell_type": "markdown",
   "metadata": {
    "colab": {},
    "colab_type": "code",
    "id": "gW3D-WlDZyGG"
   },
   "source": [
    "**<font color='teal'> Using sklearn preprocessing standardize the scale of the features of the dataframe except the name of the resort which we done't need in the dataframe for modeling, so it can be droppped here as well. Also, we want to hold out our response variable(s) so we can have their true values available for model performance review. Let's set `AdultWeekend` to the y variable as our response for scaling and modeling. Later we will go back and consider the `AdultWeekday`, `dayOpenLastYear`, and `projectedDaysOpen`. For now leave them in the development dataframe. </font>**"
   ]
  },
  {
   "cell_type": "code",
   "execution_count": 6,
   "metadata": {
    "colab": {},
    "colab_type": "code",
    "id": "IZL-q-KtAYI6"
   },
   "outputs": [],
   "source": [
    "# first we import the preprocessing package from the sklearn library\n",
    "from sklearn import preprocessing\n",
    "\n",
    "# Declare an explanatory variable, called X,and assign it the result of dropping 'Name' and 'AdultWeekend' from the df\n",
    "X = df.drop(['Name','AdultWeekend'], axis=1)\n",
    "\n",
    "# Declare a response variable, called y, and assign it the AdultWeekend column of the df \n",
    "y = df.AdultWeekend\n",
    "\n",
    "# Here we use the StandardScaler() method of the preprocessing package, and then call the fit() method with parameter X \n",
    "scaler = preprocessing.StandardScaler().fit(X)\n",
    "\n",
    "# Declare a variable called X_scaled, and assign it the result of calling the transform() method with parameter X \n",
    "X_scaled=scaler.transform(X)"
   ]
  },
  {
   "cell_type": "code",
   "execution_count": 7,
   "metadata": {},
   "outputs": [
    {
     "data": {
      "text/html": [
       "<div>\n",
       "<style scoped>\n",
       "    .dataframe tbody tr th:only-of-type {\n",
       "        vertical-align: middle;\n",
       "    }\n",
       "\n",
       "    .dataframe tbody tr th {\n",
       "        vertical-align: top;\n",
       "    }\n",
       "\n",
       "    .dataframe thead th {\n",
       "        text-align: right;\n",
       "    }\n",
       "</style>\n",
       "<table border=\"1\" class=\"dataframe\">\n",
       "  <thead>\n",
       "    <tr style=\"text-align: right;\">\n",
       "      <th></th>\n",
       "      <th>summit_elev</th>\n",
       "      <th>vertical_drop</th>\n",
       "      <th>trams</th>\n",
       "      <th>fastEight</th>\n",
       "      <th>fastSixes</th>\n",
       "      <th>fastQuads</th>\n",
       "      <th>quad</th>\n",
       "      <th>triple</th>\n",
       "      <th>double</th>\n",
       "      <th>surface</th>\n",
       "      <th>...</th>\n",
       "      <th>Rhode Island</th>\n",
       "      <th>South Dakota</th>\n",
       "      <th>Tennessee</th>\n",
       "      <th>Utah</th>\n",
       "      <th>Vermont</th>\n",
       "      <th>Virginia</th>\n",
       "      <th>Washington</th>\n",
       "      <th>West Virginia</th>\n",
       "      <th>Wisconsin</th>\n",
       "      <th>Wyoming</th>\n",
       "    </tr>\n",
       "  </thead>\n",
       "  <tbody>\n",
       "    <tr>\n",
       "      <td>0</td>\n",
       "      <td>3939</td>\n",
       "      <td>2500</td>\n",
       "      <td>1</td>\n",
       "      <td>0.0</td>\n",
       "      <td>0</td>\n",
       "      <td>2</td>\n",
       "      <td>2</td>\n",
       "      <td>0</td>\n",
       "      <td>0</td>\n",
       "      <td>2</td>\n",
       "      <td>...</td>\n",
       "      <td>0</td>\n",
       "      <td>0</td>\n",
       "      <td>0</td>\n",
       "      <td>0</td>\n",
       "      <td>0</td>\n",
       "      <td>0</td>\n",
       "      <td>0</td>\n",
       "      <td>0</td>\n",
       "      <td>0</td>\n",
       "      <td>0</td>\n",
       "    </tr>\n",
       "    <tr>\n",
       "      <td>1</td>\n",
       "      <td>2600</td>\n",
       "      <td>1540</td>\n",
       "      <td>0</td>\n",
       "      <td>0.0</td>\n",
       "      <td>0</td>\n",
       "      <td>0</td>\n",
       "      <td>0</td>\n",
       "      <td>0</td>\n",
       "      <td>4</td>\n",
       "      <td>0</td>\n",
       "      <td>...</td>\n",
       "      <td>0</td>\n",
       "      <td>0</td>\n",
       "      <td>0</td>\n",
       "      <td>0</td>\n",
       "      <td>0</td>\n",
       "      <td>0</td>\n",
       "      <td>0</td>\n",
       "      <td>0</td>\n",
       "      <td>0</td>\n",
       "      <td>0</td>\n",
       "    </tr>\n",
       "    <tr>\n",
       "      <td>2</td>\n",
       "      <td>2090</td>\n",
       "      <td>294</td>\n",
       "      <td>0</td>\n",
       "      <td>0.0</td>\n",
       "      <td>0</td>\n",
       "      <td>0</td>\n",
       "      <td>0</td>\n",
       "      <td>1</td>\n",
       "      <td>0</td>\n",
       "      <td>2</td>\n",
       "      <td>...</td>\n",
       "      <td>0</td>\n",
       "      <td>0</td>\n",
       "      <td>0</td>\n",
       "      <td>0</td>\n",
       "      <td>0</td>\n",
       "      <td>0</td>\n",
       "      <td>0</td>\n",
       "      <td>0</td>\n",
       "      <td>0</td>\n",
       "      <td>0</td>\n",
       "    </tr>\n",
       "    <tr>\n",
       "      <td>3</td>\n",
       "      <td>11500</td>\n",
       "      <td>2300</td>\n",
       "      <td>0</td>\n",
       "      <td>0.0</td>\n",
       "      <td>1</td>\n",
       "      <td>0</td>\n",
       "      <td>2</td>\n",
       "      <td>2</td>\n",
       "      <td>1</td>\n",
       "      <td>2</td>\n",
       "      <td>...</td>\n",
       "      <td>0</td>\n",
       "      <td>0</td>\n",
       "      <td>0</td>\n",
       "      <td>0</td>\n",
       "      <td>0</td>\n",
       "      <td>0</td>\n",
       "      <td>0</td>\n",
       "      <td>0</td>\n",
       "      <td>0</td>\n",
       "      <td>0</td>\n",
       "    </tr>\n",
       "    <tr>\n",
       "      <td>4</td>\n",
       "      <td>11100</td>\n",
       "      <td>1800</td>\n",
       "      <td>0</td>\n",
       "      <td>0.0</td>\n",
       "      <td>0</td>\n",
       "      <td>1</td>\n",
       "      <td>2</td>\n",
       "      <td>3</td>\n",
       "      <td>1</td>\n",
       "      <td>0</td>\n",
       "      <td>...</td>\n",
       "      <td>0</td>\n",
       "      <td>0</td>\n",
       "      <td>0</td>\n",
       "      <td>0</td>\n",
       "      <td>0</td>\n",
       "      <td>0</td>\n",
       "      <td>0</td>\n",
       "      <td>0</td>\n",
       "      <td>0</td>\n",
       "      <td>0</td>\n",
       "    </tr>\n",
       "    <tr>\n",
       "      <td>...</td>\n",
       "      <td>...</td>\n",
       "      <td>...</td>\n",
       "      <td>...</td>\n",
       "      <td>...</td>\n",
       "      <td>...</td>\n",
       "      <td>...</td>\n",
       "      <td>...</td>\n",
       "      <td>...</td>\n",
       "      <td>...</td>\n",
       "      <td>...</td>\n",
       "      <td>...</td>\n",
       "      <td>...</td>\n",
       "      <td>...</td>\n",
       "      <td>...</td>\n",
       "      <td>...</td>\n",
       "      <td>...</td>\n",
       "      <td>...</td>\n",
       "      <td>...</td>\n",
       "      <td>...</td>\n",
       "      <td>...</td>\n",
       "      <td>...</td>\n",
       "    </tr>\n",
       "    <tr>\n",
       "      <td>320</td>\n",
       "      <td>9500</td>\n",
       "      <td>1000</td>\n",
       "      <td>0</td>\n",
       "      <td>0.0</td>\n",
       "      <td>0</td>\n",
       "      <td>0</td>\n",
       "      <td>0</td>\n",
       "      <td>1</td>\n",
       "      <td>1</td>\n",
       "      <td>1</td>\n",
       "      <td>...</td>\n",
       "      <td>0</td>\n",
       "      <td>0</td>\n",
       "      <td>0</td>\n",
       "      <td>0</td>\n",
       "      <td>0</td>\n",
       "      <td>0</td>\n",
       "      <td>0</td>\n",
       "      <td>0</td>\n",
       "      <td>0</td>\n",
       "      <td>1</td>\n",
       "    </tr>\n",
       "    <tr>\n",
       "      <td>321</td>\n",
       "      <td>7428</td>\n",
       "      <td>810</td>\n",
       "      <td>0</td>\n",
       "      <td>0.0</td>\n",
       "      <td>0</td>\n",
       "      <td>0</td>\n",
       "      <td>0</td>\n",
       "      <td>1</td>\n",
       "      <td>1</td>\n",
       "      <td>1</td>\n",
       "      <td>...</td>\n",
       "      <td>0</td>\n",
       "      <td>0</td>\n",
       "      <td>0</td>\n",
       "      <td>0</td>\n",
       "      <td>0</td>\n",
       "      <td>0</td>\n",
       "      <td>0</td>\n",
       "      <td>0</td>\n",
       "      <td>0</td>\n",
       "      <td>1</td>\n",
       "    </tr>\n",
       "    <tr>\n",
       "      <td>322</td>\n",
       "      <td>7808</td>\n",
       "      <td>1571</td>\n",
       "      <td>0</td>\n",
       "      <td>0.0</td>\n",
       "      <td>0</td>\n",
       "      <td>0</td>\n",
       "      <td>1</td>\n",
       "      <td>1</td>\n",
       "      <td>1</td>\n",
       "      <td>0</td>\n",
       "      <td>...</td>\n",
       "      <td>0</td>\n",
       "      <td>0</td>\n",
       "      <td>0</td>\n",
       "      <td>0</td>\n",
       "      <td>0</td>\n",
       "      <td>0</td>\n",
       "      <td>0</td>\n",
       "      <td>0</td>\n",
       "      <td>0</td>\n",
       "      <td>1</td>\n",
       "    </tr>\n",
       "    <tr>\n",
       "      <td>323</td>\n",
       "      <td>9663</td>\n",
       "      <td>990</td>\n",
       "      <td>0</td>\n",
       "      <td>0.0</td>\n",
       "      <td>0</td>\n",
       "      <td>0</td>\n",
       "      <td>0</td>\n",
       "      <td>1</td>\n",
       "      <td>3</td>\n",
       "      <td>1</td>\n",
       "      <td>...</td>\n",
       "      <td>0</td>\n",
       "      <td>0</td>\n",
       "      <td>0</td>\n",
       "      <td>0</td>\n",
       "      <td>0</td>\n",
       "      <td>0</td>\n",
       "      <td>0</td>\n",
       "      <td>0</td>\n",
       "      <td>0</td>\n",
       "      <td>1</td>\n",
       "    </tr>\n",
       "    <tr>\n",
       "      <td>324</td>\n",
       "      <td>9500</td>\n",
       "      <td>1100</td>\n",
       "      <td>0</td>\n",
       "      <td>0.0</td>\n",
       "      <td>0</td>\n",
       "      <td>0</td>\n",
       "      <td>0</td>\n",
       "      <td>2</td>\n",
       "      <td>0</td>\n",
       "      <td>0</td>\n",
       "      <td>...</td>\n",
       "      <td>0</td>\n",
       "      <td>0</td>\n",
       "      <td>0</td>\n",
       "      <td>0</td>\n",
       "      <td>0</td>\n",
       "      <td>0</td>\n",
       "      <td>0</td>\n",
       "      <td>0</td>\n",
       "      <td>0</td>\n",
       "      <td>1</td>\n",
       "    </tr>\n",
       "  </tbody>\n",
       "</table>\n",
       "<p>325 rows × 58 columns</p>\n",
       "</div>"
      ],
      "text/plain": [
       "     summit_elev  vertical_drop  trams  fastEight  fastSixes  fastQuads  quad  \\\n",
       "0           3939           2500      1        0.0          0          2     2   \n",
       "1           2600           1540      0        0.0          0          0     0   \n",
       "2           2090            294      0        0.0          0          0     0   \n",
       "3          11500           2300      0        0.0          1          0     2   \n",
       "4          11100           1800      0        0.0          0          1     2   \n",
       "..           ...            ...    ...        ...        ...        ...   ...   \n",
       "320         9500           1000      0        0.0          0          0     0   \n",
       "321         7428            810      0        0.0          0          0     0   \n",
       "322         7808           1571      0        0.0          0          0     1   \n",
       "323         9663            990      0        0.0          0          0     0   \n",
       "324         9500           1100      0        0.0          0          0     0   \n",
       "\n",
       "     triple  double  surface  ...  Rhode Island  South Dakota  Tennessee  \\\n",
       "0         0       0        2  ...             0             0          0   \n",
       "1         0       4        0  ...             0             0          0   \n",
       "2         1       0        2  ...             0             0          0   \n",
       "3         2       1        2  ...             0             0          0   \n",
       "4         3       1        0  ...             0             0          0   \n",
       "..      ...     ...      ...  ...           ...           ...        ...   \n",
       "320       1       1        1  ...             0             0          0   \n",
       "321       1       1        1  ...             0             0          0   \n",
       "322       1       1        0  ...             0             0          0   \n",
       "323       1       3        1  ...             0             0          0   \n",
       "324       2       0        0  ...             0             0          0   \n",
       "\n",
       "     Utah  Vermont  Virginia  Washington  West Virginia  Wisconsin  Wyoming  \n",
       "0       0        0         0           0              0          0        0  \n",
       "1       0        0         0           0              0          0        0  \n",
       "2       0        0         0           0              0          0        0  \n",
       "3       0        0         0           0              0          0        0  \n",
       "4       0        0         0           0              0          0        0  \n",
       "..    ...      ...       ...         ...            ...        ...      ...  \n",
       "320     0        0         0           0              0          0        1  \n",
       "321     0        0         0           0              0          0        1  \n",
       "322     0        0         0           0              0          0        1  \n",
       "323     0        0         0           0              0          0        1  \n",
       "324     0        0         0           0              0          0        1  \n",
       "\n",
       "[325 rows x 58 columns]"
      ]
     },
     "execution_count": 7,
     "metadata": {},
     "output_type": "execute_result"
    }
   ],
   "source": [
    "X"
   ]
  },
  {
   "cell_type": "code",
   "execution_count": 8,
   "metadata": {},
   "outputs": [
    {
     "data": {
      "text/plain": [
       "0      85.00000\n",
       "1      53.00000\n",
       "2      34.00000\n",
       "3      89.00000\n",
       "4      78.00000\n",
       "         ...   \n",
       "320    64.16681\n",
       "321    42.00000\n",
       "322    59.00000\n",
       "323    49.00000\n",
       "324    49.00000\n",
       "Name: AdultWeekend, Length: 325, dtype: float64"
      ]
     },
     "execution_count": 8,
     "metadata": {},
     "output_type": "execute_result"
    }
   ],
   "source": [
    "y"
   ]
  },
  {
   "cell_type": "code",
   "execution_count": 15,
   "metadata": {},
   "outputs": [
    {
     "name": "stdout",
     "output_type": "stream",
     "text": [
      "[[-0.16488055  1.41397994  1.51059931 ... -0.11162911 -0.22755205\n",
      "  -0.15886029]\n",
      " [-0.52805807  0.37103452 -0.30100503 ... -0.11162911 -0.22755205\n",
      "  -0.15886029]\n",
      " [-0.66638558 -0.98262172 -0.30100503 ... -0.11162911 -0.22755205\n",
      "  -0.15886029]\n",
      " ...\n",
      " [ 0.88450991  0.40471296 -0.30100503 ... -0.11162911 -0.22755205\n",
      "   6.29483916]\n",
      " [ 1.38764233 -0.22648629 -0.30100503 ... -0.11162911 -0.22755205\n",
      "   6.29483916]\n",
      " [ 1.34343177 -0.10698213 -0.30100503 ... -0.11162911 -0.22755205\n",
      "   6.29483916]]\n"
     ]
    }
   ],
   "source": [
    "print(X_scaled)"
   ]
  },
  {
   "cell_type": "markdown",
   "metadata": {
    "colab_type": "text",
    "id": "GAT8h4_mZyGK"
   },
   "source": [
    "## Split into training and testing datasets"
   ]
  },
  {
   "cell_type": "markdown",
   "metadata": {
    "colab_type": "text",
    "id": "6rdS8EGeAnrW"
   },
   "source": [
    "**<font color='teal'> Using sklearn model selection import train_test_split, and create a 75/25 split with the y = `AdultWeekend`. We will start by using the adult weekend ticket price as our response variable for modeling.</font>**"
   ]
  },
  {
   "cell_type": "code",
   "execution_count": 12,
   "metadata": {
    "colab": {},
    "colab_type": "code",
    "id": "BSkPut0gguds"
   },
   "outputs": [],
   "source": [
    "# Import the train_test_split function from the sklearn.model_selection utility.  \n",
    "from sklearn.model_selection import train_test_split\n",
    "\n",
    "# Get the 1-dimensional flattened array of our response variable y by calling the ravel() function on y\n",
    "y = y.ravel()\n",
    "\n",
    "# Call the train_test_split() function with the first two parameters set to X_scaled and y \n",
    "# Declare four variables, X_train, X_test, y_train and y_test separated by commas \n",
    "X_train, X_test, y_train, y_test = train_test_split(X_scaled, y, test_size=0.25, random_state=1)"
   ]
  },
  {
   "cell_type": "code",
   "execution_count": 14,
   "metadata": {},
   "outputs": [
    {
     "name": "stdout",
     "output_type": "stream",
     "text": [
      "[ 85.          53.          34.          89.          78.\n",
      "  47.          64.16681004  64.16681004  64.16681004  78.\n",
      "  75.          64.16681004  64.16681004 159.          59.\n",
      "  84.          69.          64.16681004  64.16681004  83.\n",
      "  64.16681004  79.          50.         125.          69.\n",
      "  85.         179.          64.16681004  64.16681004 158.\n",
      "  64.16681004  89.          64.16681004  25.          64.16681004\n",
      "  79.          89.          71.          56.          84.\n",
      "  64.16681004  65.         139.          64.16681004  64.16681004\n",
      "  72.          65.          60.          55.          62.\n",
      "  42.          64.          70.          42.          47.\n",
      "  32.          47.          64.16681004  81.          62.\n",
      "  43.          64.16681004  71.          55.          64.16681004\n",
      "  35.          40.          45.          52.          39.\n",
      "  40.          46.          30.          43.          55.\n",
      "  49.          64.16681004  32.          75.          99.\n",
      " 105.          79.          68.          45.          45.\n",
      "  49.          55.          81.          58.          40.\n",
      "  60.          64.16681004  71.          47.          35.\n",
      "  69.          48.          65.          98.          64.16681004\n",
      "  49.          37.          64.          49.          64.16681004\n",
      "  49.          68.          59.          34.          45.\n",
      "  20.          45.          85.          45.          78.\n",
      "  49.          35.          42.          50.          45.\n",
      "  64.16681004  45.          47.          44.          37.\n",
      "  17.          58.          35.34        84.          46.\n",
      "  48.          59.          60.          55.          49.\n",
      "  47.          42.          63.          49.          48.\n",
      "  46.          39.          50.          67.          47.\n",
      "  39.          81.          99.          20.          70.\n",
      " 135.          89.          59.          99.          79.\n",
      "  64.16681004  69.          50.          92.          58.\n",
      "  64.16681004  93.          72.          84.          93.\n",
      "  45.          89.          64.16681004  79.99        77.\n",
      "  20.          49.          79.          55.          47.\n",
      "  74.          80.         110.          72.          32.\n",
      "  76.          50.          69.          35.          88.\n",
      "  63.2         42.          78.          75.          58.\n",
      "  89.          60.          59.          38.          30.\n",
      "  54.          40.          63.          67.          45.\n",
      "  48.          59.          59.          57.          49.\n",
      "  55.          59.          96.          46.          95.\n",
      "  39.          64.          70.          43.          68.\n",
      "  75.          65.          43.          44.          44.\n",
      "  44.          52.          40.          39.          59.\n",
      "  52.          99.          64.16681004  70.          64.16681004\n",
      "  64.16681004  60.          60.          62.          65.\n",
      "  68.          65.          70.          64.16681004  69.\n",
      "  65.          77.          33.          73.          87.\n",
      "  65.          44.          64.16681004  64.16681004  45.\n",
      "  71.          64.16681004  45.          58.          65.\n",
      " 116.          50.          59.          85.         169.\n",
      "  60.          64.16681004  88.         115.         125.\n",
      " 119.          80.          50.          79.          91.\n",
      "  73.          89.         119.          64.16681004  74.\n",
      "  64.16681004  64.16681004  81.          79.          64.16681004\n",
      "  64.16681004 119.          75.          68.          64.16681004\n",
      "  64.16681004  64.16681004  62.          64.16681004  47.\n",
      "  99.          64.16681004  60.01        59.          64.16681004\n",
      "  95.          69.          68.          87.          92.\n",
      "  72.          65.          25.          64.          38.\n",
      "  64.16681004  65.          49.          92.          41.\n",
      "  56.          47.          44.          54.          48.\n",
      "  60.          66.          90.          48.          64.16681004\n",
      "  64.16681004  42.          59.          49.          49.        ]\n"
     ]
    }
   ],
   "source": [
    "print(y)"
   ]
  },
  {
   "cell_type": "markdown",
   "metadata": {
    "colab_type": "text",
    "id": "UayqbwkWAnra"
   },
   "source": [
    "Here we start the actual modeling work. First let's fit a multiple linear regression model to predict the `AdultWeekend` price."
   ]
  },
  {
   "cell_type": "code",
   "execution_count": 17,
   "metadata": {},
   "outputs": [
    {
     "name": "stdout",
     "output_type": "stream",
     "text": [
      "[[-0.82641152 -0.32426243 -0.30100503 ... -0.11162911 -0.22755205\n",
      "  -0.15886029]\n",
      " [ 0.50261749 -0.25907834 -0.30100503 ... -0.11162911 -0.22755205\n",
      "  -0.15886029]\n",
      " [-0.70707014 -0.54154272 -0.30100503 ... -0.11162911 -0.22755205\n",
      "  -0.15886029]\n",
      " ...\n",
      " [-0.36531982 -0.58499878 -0.30100503 ... -0.11162911 -0.22755205\n",
      "  -0.15886029]\n",
      " [-0.37996627 -0.13740137 -0.30100503 ... -0.11162911 -0.22755205\n",
      "  -0.15886029]\n",
      " [ 1.43836241  0.49053868 -0.30100503 ... -0.11162911 -0.22755205\n",
      "  -0.15886029]]\n"
     ]
    }
   ],
   "source": [
    "print(X_train)"
   ]
  },
  {
   "cell_type": "code",
   "execution_count": 18,
   "metadata": {},
   "outputs": [
    {
     "name": "stdout",
     "output_type": "stream",
     "text": [
      "[[ 0.75486178  0.41449058 -0.30100503 ... -0.11162911 -0.22755205\n",
      "  -0.15886029]\n",
      " [-0.93490369 -0.747959   -0.30100503 ... -0.11162911 -0.22755205\n",
      "  -0.15886029]\n",
      " [-0.29751222 -1.08474346 -0.30100503 ... -0.11162911 -0.22755205\n",
      "  -0.15886029]\n",
      " ...\n",
      " [-0.83183613 -0.17216622  1.51059931 ... -0.11162911 -0.22755205\n",
      "  -0.15886029]\n",
      " [ 0.93658615 -0.32426243 -0.30100503 ... -0.11162911 -0.22755205\n",
      "  -0.15886029]\n",
      " [ 1.45056778  0.88164321 -0.30100503 ... -0.11162911 -0.22755205\n",
      "  -0.15886029]]\n"
     ]
    }
   ],
   "source": [
    "print(X_test)"
   ]
  },
  {
   "cell_type": "code",
   "execution_count": 19,
   "metadata": {},
   "outputs": [
    {
     "name": "stdout",
     "output_type": "stream",
     "text": [
      "[ 68.          50.          59.          60.          79.\n",
      "  84.          47.          75.          46.          64.16681004\n",
      "  49.          64.16681004  87.          58.          58.\n",
      "  84.         139.          60.          79.          72.\n",
      " 110.          47.          68.          64.16681004  56.\n",
      "  52.          49.          64.16681004  64.16681004  45.\n",
      "  50.          39.          42.          49.          64.16681004\n",
      "  43.          47.          20.          89.          47.\n",
      "  59.          64.16681004  38.          59.          64.16681004\n",
      "  44.          83.          56.          64.16681004  45.\n",
      "  64.16681004  63.          34.          68.          99.\n",
      "  92.          60.          64.16681004  52.          64.16681004\n",
      "  64.16681004  73.          87.          64.16681004  89.\n",
      "  32.          64.16681004  49.          55.         119.\n",
      "  65.          25.          79.          64.16681004  55.\n",
      "  84.          65.          40.          76.          45.\n",
      "  41.          48.          91.          65.          60.\n",
      "  45.          71.          64.16681004  79.          37.\n",
      "  93.          39.          42.          63.          69.\n",
      "  79.          49.          44.          35.          64.16681004\n",
      "  50.          48.          58.          85.          47.\n",
      "  64.16681004  60.          60.          70.          45.\n",
      "  50.          88.          78.          69.          81.\n",
      "  55.          50.          65.          20.          39.\n",
      "  64.16681004  64.16681004  47.          80.          60.01\n",
      "  30.          67.          44.          65.          69.\n",
      "  65.          98.          33.          48.          65.\n",
      "  95.          68.          70.          43.          35.\n",
      "  38.          46.          64.16681004  20.          44.\n",
      "  59.          59.          64.16681004  47.          79.\n",
      "  37.         125.          75.         159.          48.\n",
      "  39.          64.16681004  75.          72.          64.16681004\n",
      "  49.          89.          59.          64.16681004  64.16681004\n",
      "  42.          49.          48.          32.          25.\n",
      "  64.16681004  70.          44.          62.          34.\n",
      "  70.          58.         169.          35.          89.\n",
      "  68.          89.          55.          73.          81.\n",
      "  69.          67.          80.          42.          89.\n",
      "  45.          64.16681004  58.          54.         119.\n",
      "  65.          64.16681004  99.          99.          85.\n",
      "  40.          64.16681004  84.          45.         179.\n",
      "  64.16681004  64.16681004  64.16681004  89.          62.\n",
      "  66.          64.16681004  45.          49.          64.\n",
      "  65.         125.          95.          53.          50.\n",
      "  64.16681004  39.          55.          77.          75.\n",
      "  52.          42.          69.          45.          65.\n",
      "  64.16681004  72.         119.          70.          46.\n",
      "  46.          47.          55.          57.         116.\n",
      "  30.          68.          71.        ]\n"
     ]
    }
   ],
   "source": [
    "print(y_train)"
   ]
  },
  {
   "cell_type": "code",
   "execution_count": 20,
   "metadata": {},
   "outputs": [
    {
     "name": "stdout",
     "output_type": "stream",
     "text": [
      "[ 48.          60.          43.          88.          49.\n",
      "  69.          64.16681004  64.16681004  78.          45.\n",
      "  99.          81.          64.16681004  55.          59.\n",
      "  64.16681004  62.          81.          64.16681004  44.\n",
      "  59.          64.16681004  17.          93.          49.\n",
      "  71.          47.          64.16681004  92.          64.16681004\n",
      "  72.          50.          79.          49.          32.\n",
      "  35.          59.          96.          74.          77.\n",
      "  64.16681004  64.16681004  64.          49.          43.\n",
      " 158.         105.          59.          64.          64.16681004\n",
      "  49.          64.16681004  35.34        90.          59.\n",
      "  78.          40.          45.          42.          99.\n",
      "  60.          92.          45.          54.          59.\n",
      "  62.         115.          64.          78.          85.\n",
      "  69.          85.          63.2         47.          71.\n",
      "  74.         135.          75.          40.          79.99\n",
      "  40.          65.        ]\n"
     ]
    }
   ],
   "source": [
    "print(y_test)"
   ]
  },
  {
   "cell_type": "markdown",
   "metadata": {
    "colab_type": "text",
    "id": "83fkLldXFCNd"
   },
   "source": [
    "# Guided Capstone Step 5. Modeling\n"
   ]
  },
  {
   "cell_type": "markdown",
   "metadata": {
    "colab_type": "text",
    "id": "JbZXsVevfr9M"
   },
   "source": [
    "This is the fifth step in the Data Science Method. In the previous steps you cleaned and prepared the datasets. Now it's time to get into the most exciting part: modeling! In this exercise, you'll build three different models and compare each model's performance. In the end, you'll choose the best model for demonstrating insights to Big Mountain management.\n",
    "\n",
    "\n",
    "\n",
    "### **The Data Science Method**  \n",
    "\n",
    "\n",
    "1.   Problem Identification \n",
    "\n",
    "2.   Data Wrangling \n",
    "  \n",
    "3.   Exploratory Data Analysis \n",
    " \n",
    "4.   Pre-processing and Training Data Development\n",
    "\n",
    "5.   **Modeling**\n",
    "  * Fit Models with Training Data Set\n",
    "  * Review Model Outcomes — Iterate over additional models as needed.\n",
    "  * Identify the Final Model\n",
    "\n",
    "6.   Documentation\n",
    "  * Review the Results\n",
    "  * Present and share your findings - storytelling\n",
    "  * Finalize Code \n",
    "  * Finalize Documentation"
   ]
  },
  {
   "cell_type": "markdown",
   "metadata": {
    "colab_type": "text",
    "id": "D_wfsP_-Anra"
   },
   "source": [
    "## Fit Models with a Training Dataset"
   ]
  },
  {
   "cell_type": "markdown",
   "metadata": {
    "colab_type": "text",
    "id": "CoI8S5SwAnrc"
   },
   "source": [
    "**<font color='teal'> Using sklearn, fit the model on your training dataset.</font>**"
   ]
  },
  {
   "cell_type": "markdown",
   "metadata": {
    "colab_type": "text",
    "id": "P_GFr8sRAnrd"
   },
   "source": [
    "#### Model 1"
   ]
  },
  {
   "cell_type": "code",
   "execution_count": 21,
   "metadata": {
    "colab": {},
    "colab_type": "code",
    "id": "fW6K7uOPAnre"
   },
   "outputs": [],
   "source": [
    "#all first model set\n",
    "from sklearn import linear_model\n",
    "from sklearn.metrics import explained_variance_score,mean_absolute_error\n",
    "lm = linear_model.LinearRegression()\n",
    "model = lm.fit(X_train,y_train)"
   ]
  },
  {
   "cell_type": "markdown",
   "metadata": {
    "colab_type": "text",
    "id": "1fHqz9-WAnrg"
   },
   "source": [
    "**<font color='teal'> Predict on the testing dataset and score the model performance with the y_test set and the y-pred values. The explained variance is a measure of the variation explained by the model. This is also known as the R-squared value. </font>**\n",
    "\n",
    "Hint: you will have to use the `predict()` method here as it's used in this [DSM article](https://medium.com/@aiden.dataminer/the-data-science-method-dsm-modeling-56b4233cad1b) about modeling. "
   ]
  },
  {
   "cell_type": "code",
   "execution_count": 22,
   "metadata": {
    "colab": {},
    "colab_type": "code",
    "id": "nIo01lFEAnrh"
   },
   "outputs": [],
   "source": [
    "# Make a variable called y_pred and assign it the result of calling predict() on our model variable with parameter X_test\n",
    "y_pred = model.predict(X_test)"
   ]
  },
  {
   "cell_type": "code",
   "execution_count": 26,
   "metadata": {},
   "outputs": [
    {
     "name": "stdout",
     "output_type": "stream",
     "text": [
      "[ 49.99145393  61.98754768  67.91723518  90.37036018  50.41625861\n",
      "  73.79223518  76.84057502  64.96801643  79.23364143  61.01977424\n",
      "  83.63403205  74.35375861  65.28832893  57.74828986  60.68286018\n",
      "  68.15551643  51.80786018  86.39770393  65.15942268  41.86083869\n",
      "  55.78979377 101.77270393  23.98364143  90.17993049  55.43432502\n",
      "  76.35082893  40.35864143  69.34301643  83.88598518  65.64086799\n",
      "  73.26245002  57.67211799  84.64233283  41.67309455  36.88989143\n",
      "  35.84692268  57.79614143  97.71411018  76.7473133   77.01879768\n",
      "  68.11059455  66.43286018  69.72582893  58.89379768  47.06176643\n",
      " 145.31567268 115.7160633   64.21801643  60.12475471  54.5495594\n",
      "  54.08520393  65.33764533  41.37426643  86.40161018  60.25317268\n",
      "  77.26098518  36.15600471  41.7395008   36.30688361  94.87817268\n",
      "  43.29809455  88.61645393  50.66381721  60.75903205  54.31957893\n",
      "  60.64965705 111.31860236  62.12426643  80.72192268  73.36840705\n",
      "  68.69457893  74.76440315  60.30590705  63.17114143  66.40551643\n",
      "  76.8879383  121.65405158  69.88110236  47.60766486  89.9113758\n",
      "  43.13403205  65.09496955]\n"
     ]
    }
   ],
   "source": [
    "print(y_pred)"
   ]
  },
  {
   "cell_type": "markdown",
   "metadata": {
    "colab_type": "text",
    "id": "N4YS0WE2Anrk"
   },
   "source": [
    "## Review Model Outcomes — Iterate over additional models as needed"
   ]
  },
  {
   "cell_type": "code",
   "execution_count": 30,
   "metadata": {
    "colab": {},
    "colab_type": "code",
    "id": "HSh9sGIYAnrk"
   },
   "outputs": [
    {
     "data": {
      "text/plain": [
       "0.8666984158430627"
      ]
     },
     "execution_count": 30,
     "metadata": {},
     "output_type": "execute_result"
    }
   ],
   "source": [
    "# You might want to use the explained_variance_score() and mean_absolute_error() metrics.\n",
    "# To do so, you will need to import them from sklearn.metrics. \n",
    "# You can plug y_test and y_pred into the functions to evaluate the model\n",
    "explained_variance_score(y_test, y_pred)"
   ]
  },
  {
   "cell_type": "code",
   "execution_count": 31,
   "metadata": {
    "colab": {},
    "colab_type": "code",
    "id": "ihzeo8tqAnro"
   },
   "outputs": [
    {
     "data": {
      "text/plain": [
       "5.770459865912899"
      ]
     },
     "execution_count": 31,
     "metadata": {},
     "output_type": "execute_result"
    }
   ],
   "source": [
    "mean_absolute_error(y_test, y_pred)"
   ]
  },
  {
   "cell_type": "markdown",
   "metadata": {
    "colab_type": "text",
    "id": "NWJcOuSdAnrr"
   },
   "source": [
    "**<font color='teal'> Print the intercept value from the linear model. </font>**\n",
    "\n",
    "Hint: our linear regression model `lm` has an attribute `intercept_` for the intercept"
   ]
  },
  {
   "cell_type": "code",
   "execution_count": 32,
   "metadata": {
    "colab": {},
    "colab_type": "code",
    "id": "3WzWejn6Anrt"
   },
   "outputs": [
    {
     "data": {
      "text/plain": [
       "64.44848517730031"
      ]
     },
     "execution_count": 32,
     "metadata": {},
     "output_type": "execute_result"
    }
   ],
   "source": [
    "lm.intercept_"
   ]
  },
  {
   "cell_type": "markdown",
   "metadata": {
    "colab_type": "text",
    "id": "edajrenAAnrv"
   },
   "source": [
    "**<font color='teal'> The intercept is the mean `AdultWeekend` price for all the resorts given the other characteristics. The addition or subtraction of each of the coefficient values in the regression are numeric adjustments applied to the intercept to provide a particular observation's value for the resulting `AdultWeekend` value. Also, because we took the time to scale our x values in the training data, we can compare each of the coeeficients for the features to determine the feature importances. Print the coefficient values from the linear model and sort in descending order to identify the top ten most important features.</font>** \n",
    "\n",
    "\n",
    "Hint: make sure to review the absolute value of the coefficients, because the adjustment may be positive or negative, but what we are looking for is the magnitude of impact on our response variable."
   ]
  },
  {
   "cell_type": "code",
   "execution_count": 34,
   "metadata": {
    "colab": {},
    "colab_type": "code",
    "id": "FEKc_lmZAnrw"
   },
   "outputs": [
    {
     "data": {
      "text/html": [
       "<div>\n",
       "<style scoped>\n",
       "    .dataframe tbody tr th:only-of-type {\n",
       "        vertical-align: middle;\n",
       "    }\n",
       "\n",
       "    .dataframe tbody tr th {\n",
       "        vertical-align: top;\n",
       "    }\n",
       "\n",
       "    .dataframe thead th {\n",
       "        text-align: right;\n",
       "    }\n",
       "</style>\n",
       "<table border=\"1\" class=\"dataframe\">\n",
       "  <thead>\n",
       "    <tr style=\"text-align: right;\">\n",
       "      <th></th>\n",
       "      <th>Coefficient</th>\n",
       "    </tr>\n",
       "  </thead>\n",
       "  <tbody>\n",
       "    <tr>\n",
       "      <td>total_chairs</td>\n",
       "      <td>2.417708e+13</td>\n",
       "    </tr>\n",
       "    <tr>\n",
       "      <td>fastQuads</td>\n",
       "      <td>9.642979e+12</td>\n",
       "    </tr>\n",
       "    <tr>\n",
       "      <td>surface</td>\n",
       "      <td>8.728601e+12</td>\n",
       "    </tr>\n",
       "    <tr>\n",
       "      <td>New York</td>\n",
       "      <td>7.475794e+12</td>\n",
       "    </tr>\n",
       "    <tr>\n",
       "      <td>double</td>\n",
       "      <td>7.464447e+12</td>\n",
       "    </tr>\n",
       "    <tr>\n",
       "      <td>triple</td>\n",
       "      <td>7.018160e+12</td>\n",
       "    </tr>\n",
       "    <tr>\n",
       "      <td>Michigan</td>\n",
       "      <td>6.944903e+12</td>\n",
       "    </tr>\n",
       "    <tr>\n",
       "      <td>Colorado</td>\n",
       "      <td>6.084927e+12</td>\n",
       "    </tr>\n",
       "    <tr>\n",
       "      <td>California</td>\n",
       "      <td>5.948040e+12</td>\n",
       "    </tr>\n",
       "    <tr>\n",
       "      <td>quad</td>\n",
       "      <td>5.827059e+12</td>\n",
       "    </tr>\n",
       "  </tbody>\n",
       "</table>\n",
       "</div>"
      ],
      "text/plain": [
       "               Coefficient\n",
       "total_chairs  2.417708e+13\n",
       "fastQuads     9.642979e+12\n",
       "surface       8.728601e+12\n",
       "New York      7.475794e+12\n",
       "double        7.464447e+12\n",
       "triple        7.018160e+12\n",
       "Michigan      6.944903e+12\n",
       "Colorado      6.084927e+12\n",
       "California    5.948040e+12\n",
       "quad          5.827059e+12"
      ]
     },
     "execution_count": 34,
     "metadata": {},
     "output_type": "execute_result"
    }
   ],
   "source": [
    "# You might want to make a pandas DataFrame displaying the coefficients for each state like so: \n",
    "coeff_df = pd.DataFrame(abs(lm.coef_), X.columns, columns=['Coefficient'])\n",
    "coeff_df.sort_values(by=['Coefficient'],ascending=False).head(10)"
   ]
  },
  {
   "cell_type": "markdown",
   "metadata": {
    "colab_type": "text",
    "id": "BpdALMoAAnry"
   },
   "source": [
    "**<font color='teal'>You should see that the top ten important features are different states. However, the state is not something the managers at the Big Mountain Resort can do anything about. Given that we care more about actionable traits associated with ticket pricing, rebuild the model without the state features and compare the results. </font>**\n",
    "\n",
    "Hint: Try to construct another model using exactly the steps we followed above. "
   ]
  },
  {
   "cell_type": "markdown",
   "metadata": {
    "colab_type": "text",
    "id": "-mHYA1BzAnrz"
   },
   "source": [
    "#### Model 2"
   ]
  },
  {
   "cell_type": "code",
   "execution_count": 35,
   "metadata": {
    "colab": {},
    "colab_type": "code",
    "id": "Pz1YXAdiAnr0"
   },
   "outputs": [
    {
     "name": "stdout",
     "output_type": "stream",
     "text": [
      "0.8712706137398633\n"
     ]
    },
    {
     "data": {
      "text/plain": [
       "5.9255703636477515"
      ]
     },
     "execution_count": 35,
     "metadata": {},
     "output_type": "execute_result"
    }
   ],
   "source": [
    "file=\"data/step3_output.csv\"\n",
    "df=pd.read_csv(file)\n",
    "X=df.drop(['AdultWeekend','Name','state'], axis=1)\n",
    "y=df.AdultWeekend\n",
    "scaler = preprocessing.StandardScaler().fit(X)\n",
    "X_scaled=scaler.transform(X) \n",
    "y=y.ravel()\n",
    "X_train, X_test, y_train, y_test = train_test_split(X_scaled, y, test_size=0.25, random_state=1)\n",
    "lm = linear_model.LinearRegression()\n",
    "model = lm.fit(X_train,y_train)\n",
    "y_pred = model.predict(X_test)\n",
    "print(explained_variance_score(y_test, y_pred))\n",
    "mean_absolute_error(y_test, y_pred)"
   ]
  },
  {
   "cell_type": "code",
   "execution_count": 37,
   "metadata": {},
   "outputs": [
    {
     "name": "stdout",
     "output_type": "stream",
     "text": [
      "[ 85.          53.          34.          89.          78.\n",
      "  47.          64.16681004  64.16681004  64.16681004  78.\n",
      "  75.          64.16681004  64.16681004 159.          59.\n",
      "  84.          69.          64.16681004  64.16681004  83.\n",
      "  64.16681004  79.          50.         125.          69.\n",
      "  85.         179.          64.16681004  64.16681004 158.\n",
      "  64.16681004  89.          64.16681004  25.          64.16681004\n",
      "  79.          89.          71.          56.          84.\n",
      "  64.16681004  65.         139.          64.16681004  64.16681004\n",
      "  72.          65.          60.          55.          62.\n",
      "  42.          64.          70.          42.          47.\n",
      "  32.          47.          64.16681004  81.          62.\n",
      "  43.          64.16681004  71.          55.          64.16681004\n",
      "  35.          40.          45.          52.          39.\n",
      "  40.          46.          30.          43.          55.\n",
      "  49.          64.16681004  32.          75.          99.\n",
      " 105.          79.          68.          45.          45.\n",
      "  49.          55.          81.          58.          40.\n",
      "  60.          64.16681004  71.          47.          35.\n",
      "  69.          48.          65.          98.          64.16681004\n",
      "  49.          37.          64.          49.          64.16681004\n",
      "  49.          68.          59.          34.          45.\n",
      "  20.          45.          85.          45.          78.\n",
      "  49.          35.          42.          50.          45.\n",
      "  64.16681004  45.          47.          44.          37.\n",
      "  17.          58.          35.34        84.          46.\n",
      "  48.          59.          60.          55.          49.\n",
      "  47.          42.          63.          49.          48.\n",
      "  46.          39.          50.          67.          47.\n",
      "  39.          81.          99.          20.          70.\n",
      " 135.          89.          59.          99.          79.\n",
      "  64.16681004  69.          50.          92.          58.\n",
      "  64.16681004  93.          72.          84.          93.\n",
      "  45.          89.          64.16681004  79.99        77.\n",
      "  20.          49.          79.          55.          47.\n",
      "  74.          80.         110.          72.          32.\n",
      "  76.          50.          69.          35.          88.\n",
      "  63.2         42.          78.          75.          58.\n",
      "  89.          60.          59.          38.          30.\n",
      "  54.          40.          63.          67.          45.\n",
      "  48.          59.          59.          57.          49.\n",
      "  55.          59.          96.          46.          95.\n",
      "  39.          64.          70.          43.          68.\n",
      "  75.          65.          43.          44.          44.\n",
      "  44.          52.          40.          39.          59.\n",
      "  52.          99.          64.16681004  70.          64.16681004\n",
      "  64.16681004  60.          60.          62.          65.\n",
      "  68.          65.          70.          64.16681004  69.\n",
      "  65.          77.          33.          73.          87.\n",
      "  65.          44.          64.16681004  64.16681004  45.\n",
      "  71.          64.16681004  45.          58.          65.\n",
      " 116.          50.          59.          85.         169.\n",
      "  60.          64.16681004  88.         115.         125.\n",
      " 119.          80.          50.          79.          91.\n",
      "  73.          89.         119.          64.16681004  74.\n",
      "  64.16681004  64.16681004  81.          79.          64.16681004\n",
      "  64.16681004 119.          75.          68.          64.16681004\n",
      "  64.16681004  64.16681004  62.          64.16681004  47.\n",
      "  99.          64.16681004  60.01        59.          64.16681004\n",
      "  95.          69.          68.          87.          92.\n",
      "  72.          65.          25.          64.          38.\n",
      "  64.16681004  65.          49.          92.          41.\n",
      "  56.          47.          44.          54.          48.\n",
      "  60.          66.          90.          48.          64.16681004\n",
      "  64.16681004  42.          59.          49.          49.        ]\n"
     ]
    }
   ],
   "source": [
    "print(y)"
   ]
  },
  {
   "cell_type": "code",
   "execution_count": 36,
   "metadata": {
    "colab": {},
    "colab_type": "code",
    "id": "nM1EGf16Anr2"
   },
   "outputs": [
    {
     "data": {
      "text/html": [
       "<div>\n",
       "<style scoped>\n",
       "    .dataframe tbody tr th:only-of-type {\n",
       "        vertical-align: middle;\n",
       "    }\n",
       "\n",
       "    .dataframe tbody tr th {\n",
       "        vertical-align: top;\n",
       "    }\n",
       "\n",
       "    .dataframe thead th {\n",
       "        text-align: right;\n",
       "    }\n",
       "</style>\n",
       "<table border=\"1\" class=\"dataframe\">\n",
       "  <thead>\n",
       "    <tr style=\"text-align: right;\">\n",
       "      <th></th>\n",
       "      <th>Coefficient</th>\n",
       "    </tr>\n",
       "  </thead>\n",
       "  <tbody>\n",
       "    <tr>\n",
       "      <td>AdultWeekday</td>\n",
       "      <td>20.338173</td>\n",
       "    </tr>\n",
       "    <tr>\n",
       "      <td>daysOpenLastYear</td>\n",
       "      <td>1.801708</td>\n",
       "    </tr>\n",
       "    <tr>\n",
       "      <td>vertical_drop</td>\n",
       "      <td>1.710902</td>\n",
       "    </tr>\n",
       "    <tr>\n",
       "      <td>projectedDaysOpen</td>\n",
       "      <td>1.652010</td>\n",
       "    </tr>\n",
       "    <tr>\n",
       "      <td>SkiableTerrain_ac</td>\n",
       "      <td>1.111151</td>\n",
       "    </tr>\n",
       "    <tr>\n",
       "      <td>quad</td>\n",
       "      <td>1.079750</td>\n",
       "    </tr>\n",
       "    <tr>\n",
       "      <td>fastQuads</td>\n",
       "      <td>1.072051</td>\n",
       "    </tr>\n",
       "    <tr>\n",
       "      <td>NightSkiing_ac</td>\n",
       "      <td>1.012147</td>\n",
       "    </tr>\n",
       "    <tr>\n",
       "      <td>summit_elev</td>\n",
       "      <td>1.011071</td>\n",
       "    </tr>\n",
       "    <tr>\n",
       "      <td>surface</td>\n",
       "      <td>0.908163</td>\n",
       "    </tr>\n",
       "  </tbody>\n",
       "</table>\n",
       "</div>"
      ],
      "text/plain": [
       "                   Coefficient\n",
       "AdultWeekday         20.338173\n",
       "daysOpenLastYear      1.801708\n",
       "vertical_drop         1.710902\n",
       "projectedDaysOpen     1.652010\n",
       "SkiableTerrain_ac     1.111151\n",
       "quad                  1.079750\n",
       "fastQuads             1.072051\n",
       "NightSkiing_ac        1.012147\n",
       "summit_elev           1.011071\n",
       "surface               0.908163"
      ]
     },
     "execution_count": 36,
     "metadata": {},
     "output_type": "execute_result"
    }
   ],
   "source": [
    "coeff_df = pd.DataFrame(abs(lm.coef_), X.columns, columns=['Coefficient'])  \n",
    "coeff_df.sort_values(by=['Coefficient'],ascending=False).head(10)"
   ]
  },
  {
   "cell_type": "markdown",
   "metadata": {
    "colab_type": "text",
    "id": "JWjQLr3LAnr6"
   },
   "source": [
    "**<font color='teal'> When reviewing our new model coefficients, we see `summit_elev` is now in the number two spot. This is also difficult to change from a management prespective and highly correlated with `base_elev` and `vertical_drop`.  This time, rebuild the model without the state features and without the `summit_elev` and without `base_elev`and compare the results. </font>**"
   ]
  },
  {
   "cell_type": "markdown",
   "metadata": {
    "colab_type": "text",
    "id": "RXqvcn93Anr7"
   },
   "source": [
    "#### Model 3"
   ]
  },
  {
   "cell_type": "code",
   "execution_count": 39,
   "metadata": {
    "colab": {},
    "colab_type": "code",
    "id": "6eugnDNNAnr8"
   },
   "outputs": [
    {
     "name": "stdout",
     "output_type": "stream",
     "text": [
      "0.8718157050440074\n"
     ]
    },
    {
     "data": {
      "text/plain": [
       "5.921406319146117"
      ]
     },
     "execution_count": 39,
     "metadata": {},
     "output_type": "execute_result"
    }
   ],
   "source": [
    "file=\"data/step3_output.csv\"\n",
    "df=pd.read_csv(file)\n",
    "X=df.drop(['Name','AdultWeekend','state','summit_elev'], axis=1)\n",
    "y=df.AdultWeekend\n",
    "scaler = preprocessing.StandardScaler().fit(X)\n",
    "X_scaled=scaler.transform(X) \n",
    "y=y.ravel()\n",
    "X_train, X_test, y_train, y_test = train_test_split(X_scaled, y, test_size=0.25, random_state=1)\n",
    "lm = linear_model.LinearRegression()\n",
    "model = lm.fit(X_train,y_train)\n",
    "y_pred = model.predict(X_test)\n",
    "print(explained_variance_score(y_test, y_pred))\n",
    "mean_absolute_error(y_test, y_pred)"
   ]
  },
  {
   "cell_type": "code",
   "execution_count": 42,
   "metadata": {},
   "outputs": [
    {
     "name": "stdout",
     "output_type": "stream",
     "text": [
      "[ 85.          53.          34.          89.          78.\n",
      "  47.          64.16681004  64.16681004  64.16681004  78.\n",
      "  75.          64.16681004  64.16681004 159.          59.\n",
      "  84.          69.          64.16681004  64.16681004  83.\n",
      "  64.16681004  79.          50.         125.          69.\n",
      "  85.         179.          64.16681004  64.16681004 158.\n",
      "  64.16681004  89.          64.16681004  25.          64.16681004\n",
      "  79.          89.          71.          56.          84.\n",
      "  64.16681004  65.         139.          64.16681004  64.16681004\n",
      "  72.          65.          60.          55.          62.\n",
      "  42.          64.          70.          42.          47.\n",
      "  32.          47.          64.16681004  81.          62.\n",
      "  43.          64.16681004  71.          55.          64.16681004\n",
      "  35.          40.          45.          52.          39.\n",
      "  40.          46.          30.          43.          55.\n",
      "  49.          64.16681004  32.          75.          99.\n",
      " 105.          79.          68.          45.          45.\n",
      "  49.          55.          81.          58.          40.\n",
      "  60.          64.16681004  71.          47.          35.\n",
      "  69.          48.          65.          98.          64.16681004\n",
      "  49.          37.          64.          49.          64.16681004\n",
      "  49.          68.          59.          34.          45.\n",
      "  20.          45.          85.          45.          78.\n",
      "  49.          35.          42.          50.          45.\n",
      "  64.16681004  45.          47.          44.          37.\n",
      "  17.          58.          35.34        84.          46.\n",
      "  48.          59.          60.          55.          49.\n",
      "  47.          42.          63.          49.          48.\n",
      "  46.          39.          50.          67.          47.\n",
      "  39.          81.          99.          20.          70.\n",
      " 135.          89.          59.          99.          79.\n",
      "  64.16681004  69.          50.          92.          58.\n",
      "  64.16681004  93.          72.          84.          93.\n",
      "  45.          89.          64.16681004  79.99        77.\n",
      "  20.          49.          79.          55.          47.\n",
      "  74.          80.         110.          72.          32.\n",
      "  76.          50.          69.          35.          88.\n",
      "  63.2         42.          78.          75.          58.\n",
      "  89.          60.          59.          38.          30.\n",
      "  54.          40.          63.          67.          45.\n",
      "  48.          59.          59.          57.          49.\n",
      "  55.          59.          96.          46.          95.\n",
      "  39.          64.          70.          43.          68.\n",
      "  75.          65.          43.          44.          44.\n",
      "  44.          52.          40.          39.          59.\n",
      "  52.          99.          64.16681004  70.          64.16681004\n",
      "  64.16681004  60.          60.          62.          65.\n",
      "  68.          65.          70.          64.16681004  69.\n",
      "  65.          77.          33.          73.          87.\n",
      "  65.          44.          64.16681004  64.16681004  45.\n",
      "  71.          64.16681004  45.          58.          65.\n",
      " 116.          50.          59.          85.         169.\n",
      "  60.          64.16681004  88.         115.         125.\n",
      " 119.          80.          50.          79.          91.\n",
      "  73.          89.         119.          64.16681004  74.\n",
      "  64.16681004  64.16681004  81.          79.          64.16681004\n",
      "  64.16681004 119.          75.          68.          64.16681004\n",
      "  64.16681004  64.16681004  62.          64.16681004  47.\n",
      "  99.          64.16681004  60.01        59.          64.16681004\n",
      "  95.          69.          68.          87.          92.\n",
      "  72.          65.          25.          64.          38.\n",
      "  64.16681004  65.          49.          92.          41.\n",
      "  56.          47.          44.          54.          48.\n",
      "  60.          66.          90.          48.          64.16681004\n",
      "  64.16681004  42.          59.          49.          49.        ]\n"
     ]
    }
   ],
   "source": [
    "print(y)"
   ]
  },
  {
   "cell_type": "code",
   "execution_count": 41,
   "metadata": {
    "colab": {},
    "colab_type": "code",
    "id": "pq0pW7G9Anr_"
   },
   "outputs": [
    {
     "data": {
      "text/html": [
       "<div>\n",
       "<style scoped>\n",
       "    .dataframe tbody tr th:only-of-type {\n",
       "        vertical-align: middle;\n",
       "    }\n",
       "\n",
       "    .dataframe tbody tr th {\n",
       "        vertical-align: top;\n",
       "    }\n",
       "\n",
       "    .dataframe thead th {\n",
       "        text-align: right;\n",
       "    }\n",
       "</style>\n",
       "<table border=\"1\" class=\"dataframe\">\n",
       "  <thead>\n",
       "    <tr style=\"text-align: right;\">\n",
       "      <th></th>\n",
       "      <th>Coefficient</th>\n",
       "    </tr>\n",
       "  </thead>\n",
       "  <tbody>\n",
       "    <tr>\n",
       "      <td>AdultWeekday</td>\n",
       "      <td>20.278859</td>\n",
       "    </tr>\n",
       "    <tr>\n",
       "      <td>daysOpenLastYear</td>\n",
       "      <td>1.662549</td>\n",
       "    </tr>\n",
       "    <tr>\n",
       "      <td>projectedDaysOpen</td>\n",
       "      <td>1.566177</td>\n",
       "    </tr>\n",
       "    <tr>\n",
       "      <td>vertical_drop</td>\n",
       "      <td>1.400607</td>\n",
       "    </tr>\n",
       "    <tr>\n",
       "      <td>clusters</td>\n",
       "      <td>1.265617</td>\n",
       "    </tr>\n",
       "    <tr>\n",
       "      <td>SkiableTerrain_ac</td>\n",
       "      <td>1.222313</td>\n",
       "    </tr>\n",
       "    <tr>\n",
       "      <td>quad</td>\n",
       "      <td>1.148899</td>\n",
       "    </tr>\n",
       "    <tr>\n",
       "      <td>fastQuads</td>\n",
       "      <td>1.142562</td>\n",
       "    </tr>\n",
       "    <tr>\n",
       "      <td>NightSkiing_ac</td>\n",
       "      <td>1.121838</td>\n",
       "    </tr>\n",
       "    <tr>\n",
       "      <td>surface</td>\n",
       "      <td>0.935895</td>\n",
       "    </tr>\n",
       "  </tbody>\n",
       "</table>\n",
       "</div>"
      ],
      "text/plain": [
       "                   Coefficient\n",
       "AdultWeekday         20.278859\n",
       "daysOpenLastYear      1.662549\n",
       "projectedDaysOpen     1.566177\n",
       "vertical_drop         1.400607\n",
       "clusters              1.265617\n",
       "SkiableTerrain_ac     1.222313\n",
       "quad                  1.148899\n",
       "fastQuads             1.142562\n",
       "NightSkiing_ac        1.121838\n",
       "surface               0.935895"
      ]
     },
     "execution_count": 41,
     "metadata": {},
     "output_type": "execute_result"
    }
   ],
   "source": [
    "coeff_df = pd.DataFrame(abs(lm.coef_), X.columns, columns=['Coefficient'])  \n",
    "coeff_df.sort_values(by=['Coefficient'],ascending=False).head(10)"
   ]
  },
  {
   "cell_type": "markdown",
   "metadata": {
    "colab_type": "text",
    "id": "MJvQMns6AnsI"
   },
   "source": [
    "## Identify the Final Model"
   ]
  },
  {
   "cell_type": "markdown",
   "metadata": {
    "colab_type": "text",
    "id": "LD7-3iLcAnsK"
   },
   "source": [
    "**<font color='teal'> Review the model performances in the table below and choose the best model for proving insights to Big Mountain management about what features are driving ski resort lift ticket prices. Type your choice in the final markdown cell — you will discuss this selection more in the next step of the guided casptone. </font>**"
   ]
  },
  {
   "cell_type": "markdown",
   "metadata": {
    "colab_type": "text",
    "id": "La5S9fRPAnsK"
   },
   "source": [
    "| Model | Explained Variance| Mean Absolute Error|Features Dropped|\n",
    "| --- | --- | --- | --- |\n",
    "| Model 1. | 0.8666984158430627 |  5.770459865912899|-|\n",
    "| Model 2. | 0.8712706137398633| 5.9255703636477515|'state'|\n",
    "| Model 3. | 0.8718157050440074 | 5.921406319146117|'state','summit_elev','base_elev'|"
   ]
  },
  {
   "cell_type": "markdown",
   "metadata": {},
   "source": [
    "Model 3 will be the best model as the highly correlated columns were eliminated."
   ]
  }
 ],
 "metadata": {
  "colab": {
   "collapsed_sections": [
    "RtEspslPZyGY",
    "s0DokMkAZyGc",
    "2iuitnKcZyHS",
    "iAWQxougZyHW",
    "ThMTimlBZyHZ",
    "QwZ-LkjXZyHt",
    "srtXEA3N4-Y9",
    "ChVreJupZyIA",
    "zDgSSsq1ZyID",
    "I3GYKWfi5Llg",
    "pmMvrhbI-viE",
    "ZXDPkW3UZyIX",
    "Dnc_vHQLZyId",
    "daJxuJ-dZyIg",
    "mAQ-oHiPZyIn",
    "hnGOsp3mZyIp"
   ],
   "name": "GuidedCapstoneStep5.ipynb",
   "provenance": []
  },
  "kernelspec": {
   "display_name": "Python 3",
   "language": "python",
   "name": "python3"
  },
  "language_info": {
   "codemirror_mode": {
    "name": "ipython",
    "version": 3
   },
   "file_extension": ".py",
   "mimetype": "text/x-python",
   "name": "python",
   "nbconvert_exporter": "python",
   "pygments_lexer": "ipython3",
   "version": "3.7.4"
  },
  "toc": {
   "base_numbering": "0",
   "nav_menu": {},
   "number_sections": true,
   "sideBar": true,
   "skip_h1_title": false,
   "title_cell": "Table of Contents",
   "title_sidebar": "Contents",
   "toc_cell": true,
   "toc_position": {
    "height": "calc(100% - 180px)",
    "left": "10px",
    "top": "150px",
    "width": "288px"
   },
   "toc_section_display": true,
   "toc_window_display": true
  }
 },
 "nbformat": 4,
 "nbformat_minor": 1
}
